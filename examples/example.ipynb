{
 "cells": [
  {
   "cell_type": "code",
   "execution_count": 1,
   "id": "7a0469a3",
   "metadata": {},
   "outputs": [
    {
     "name": "stderr",
     "output_type": "stream",
     "text": [
      "<frozen importlib._bootstrap>:219: RuntimeWarning: scipy._lib.messagestream.MessageStream size changed, may indicate binary incompatibility. Expected 56 from C header, got 64 from PyObject\n"
     ]
    }
   ],
   "source": [
    "import numpy as np\n",
    "from pathlib import Path\n",
    "import sys\n",
    "import os\n",
    "import qutip\n",
    "from qutip.qip import operations as qops\n",
    "\n",
    "sys.path.insert(0, os.path.abspath('../'))\n",
    "import BlochSphereAnimation as bsa"
   ]
  },
  {
   "cell_type": "markdown",
   "id": "44aaa204",
   "metadata": {},
   "source": [
    "# Simple example: X gate"
   ]
  },
  {
   "cell_type": "markdown",
   "id": "12974063",
   "metadata": {},
   "source": [
    "## Create BlochSphereAnimation object"
   ]
  },
  {
   "cell_type": "code",
   "execution_count": 2,
   "id": "cc5fca64",
   "metadata": {},
   "outputs": [],
   "source": [
    "animation = bsa.animation.BlochSphereAnimation()\n",
    "animation.view = [-40,30]"
   ]
  },
  {
   "cell_type": "markdown",
   "id": "ad6f8565",
   "metadata": {},
   "source": [
    "## Define initial qubit state.\n",
    "\n",
    "Note:\n",
    "* `qutip.basis(2,0)` corresponds to $|0\\rangle$\n",
    "* `qutip.basis(2,1)` corresponds to $|1\\rangle$\n",
    "* By adding `.unit()` to an arbitrary state, the state becomes normalized to 1.\n"
   ]
  },
  {
   "cell_type": "code",
   "execution_count": 3,
   "id": "51289827",
   "metadata": {},
   "outputs": [],
   "source": [
    "animation.state_current = qutip.basis(2,0)"
   ]
  },
  {
   "cell_type": "markdown",
   "id": "0aa71b37",
   "metadata": {},
   "source": [
    "## Optional: Define constant vectors to be displayed\n",
    "\n",
    "This is e.g. useful, to show the axis of rotation for the individual gates. `rz` rotates about z-axis, etc."
   ]
  },
  {
   "cell_type": "code",
   "execution_count": 4,
   "id": "5025e51b",
   "metadata": {},
   "outputs": [],
   "source": [
    "vector_x = (qutip.basis(2,0)+qutip.basis(2,1)).unit()"
   ]
  },
  {
   "cell_type": "markdown",
   "id": "8df8fb79",
   "metadata": {},
   "source": [
    "## Apply gate\n",
    "\n",
    "The applied gate is defined by an operator (2x2 matrix), see e.g. https://qutip.org/docs/latest/apidoc/functions.html\n",
    "\n",
    "By default, the gate is doing a rotation by $\\pi$ (180°).\n",
    "\n",
    "Examples:\n",
    "* `qops.rx`: rotation around x (Pauli X-gate)\n",
    "* `qops.rz`: rotation around z (Pauli Z-gate)\n",
    "* In QuTiP, there is no built-in rotation operator about the Hadamard-axis. This is included in this module: `bsa.quantum_operations.qops_rh`"
   ]
  },
  {
   "cell_type": "code",
   "execution_count": 5,
   "id": "f7c545a3",
   "metadata": {},
   "outputs": [],
   "source": [
    "animation.apply_gate(qops.rx, vector=vector_x)"
   ]
  },
  {
   "cell_type": "markdown",
   "id": "3210234c",
   "metadata": {},
   "source": [
    "## Create animation"
   ]
  },
  {
   "cell_type": "code",
   "execution_count": 6,
   "id": "94eb08df",
   "metadata": {},
   "outputs": [],
   "source": [
    "animation.animate()"
   ]
  },
  {
   "cell_type": "markdown",
   "id": "0343c827",
   "metadata": {},
   "source": [
    "---\n",
    "# H-Z-H = X"
   ]
  },
  {
   "cell_type": "code",
   "execution_count": 7,
   "id": "3b660785",
   "metadata": {},
   "outputs": [],
   "source": [
    "animation = bsa.animation.BlochSphereAnimation()\n",
    "animation.view = [-40,30]\n",
    "\n",
    "animation.state_current = qutip.basis(2,0)\n",
    "\n",
    "## define constant vectors\n",
    "vector_z = qutip.basis(2,0)\n",
    "vector_h = vector_h = (qutip.basis(2,0) + 1/2*qutip.basis(2,1)).unit()\n",
    "# vector_h: Vector along the \"Hadamard axis\"\n",
    "\n",
    "animation.apply_gate(bsa.qops_rh, vector=vector_h, title='Hadamard')\n",
    "animation.apply_gate(qops.rz, vector=vector_z, title='Z')\n",
    "animation.apply_gate(bsa.qops_rh, vector=vector_h, title='Hadamard')\n",
    "\n",
    "animation.animate()"
   ]
  },
  {
   "cell_type": "markdown",
   "id": "b54e28c1",
   "metadata": {},
   "source": [
    "# H-Phase-H (Ramsey Interferometer)"
   ]
  },
  {
   "cell_type": "code",
   "execution_count": 8,
   "id": "dcf17402",
   "metadata": {},
   "outputs": [],
   "source": [
    "phase = 0.2*np.pi  # Phase shift in the phase gate\n",
    "\n",
    "animation = bsa.animation.BlochSphereAnimation()\n",
    "animation.view = [-40,30]\n",
    "\n",
    "animation.state_current = qutip.basis(2,0)\n",
    "\n",
    "vector_z = qutip.basis(2,0)\n",
    "vector_h = (qutip.basis(2,0) + 1/2*qutip.basis(2,1)).unit()\n",
    "\n",
    "animation.apply_gate(bsa.qops_rh, title='Hadamard', vector=vector_h)\n",
    "animation.apply_gate(qops.rz, phase=phase, title='Phase', vector=vector_z)\n",
    "animation.apply_gate(bsa.qops_rh, title='Hadamard', vector=vector_h)\n",
    "\n",
    "animation.animate()"
   ]
  }
 ],
 "metadata": {
  "kernelspec": {
   "display_name": "Python 3 (ipykernel)",
   "language": "python",
   "name": "python3"
  },
  "language_info": {
   "codemirror_mode": {
    "name": "ipython",
    "version": 3
   },
   "file_extension": ".py",
   "mimetype": "text/x-python",
   "name": "python",
   "nbconvert_exporter": "python",
   "pygments_lexer": "ipython3",
   "version": "3.8.13"
  }
 },
 "nbformat": 4,
 "nbformat_minor": 5
}
