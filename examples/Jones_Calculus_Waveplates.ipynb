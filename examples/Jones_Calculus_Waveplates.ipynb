{
 "cells": [
  {
   "cell_type": "code",
   "execution_count": 1,
   "id": "7a0469a3",
   "metadata": {},
   "outputs": [],
   "source": [
    "import numpy as np\n",
    "from pathlib import Path\n",
    "import sys\n",
    "import os\n",
    "import functools\n",
    "import qutip\n",
    "from qutip.qip import operations as qops\n",
    "\n",
    "sys.path.insert(0, os.path.abspath('../'))\n",
    "import BlochSphereAnimation as bsa"
   ]
  },
  {
   "cell_type": "markdown",
   "id": "cc075783",
   "metadata": {},
   "source": [
    "The states on the Bloch (Qubit) and Poincare (Polarization) sphere have the following correspondence:\n",
    "\n",
    "| Bloch (Qubit)                            | Poincare (Polarization) |\n",
    "| :-: | :-: |\n",
    "| $|0\\rangle = |H\\rangle$                  | Horizontal |\n",
    "| $|1\\rangle = |V\\rangle$                  | Vertical |\n",
    "| $|x\\rangle = |0\\rangle$ + $|1\\rangle$        | Diagonal |\n",
    "| $|$-$x\\rangle = |0\\rangle$ - $|1\\rangle$       | Anti-Diagonal |\n",
    "| $|y\\rangle = |0\\rangle$ + $i|1\\rangle$       | Right-circular |\n",
    "| $|$-$y\\rangle = |0\\rangle$- $i|1\\rangle$      | Left-circular |\n",
    "\n",
    "The angle of the waveplate is the axis of rotation, around which the Bloch vector rotates. This axis lies in the xz-plane in Bloch (or Poincare) space. The angle of the waveplate corresponds to twice the angle of the rotation axis on the Bloch sphere w.r.t. the 0 (H) state.\n",
    "* For a HWP: The polarization state rotates by 180° (π) around the rotation axis\n",
    "* For a QWP: The polarization state rotates by 90° (π/2) around the rotation axis\n"
   ]
  },
  {
   "cell_type": "markdown",
   "id": "6e5447f9",
   "metadata": {},
   "source": [
    "# Define unitary operators for HWP and QWP"
   ]
  },
  {
   "cell_type": "code",
   "execution_count": 3,
   "id": "21090485",
   "metadata": {},
   "outputs": [],
   "source": [
    "def wp(wp_angle):\n",
    "    a = wp_angle\n",
    "    return qutip.Qobj([[np.cos(a)**2-np.sin(a)**2, 2*np.sin(a)*np.cos(a)],\n",
    "                     [2*np.sin(a)*np.cos(a), np.sin(a)**2-np.cos(a)**2]])\n",
    "\n",
    "#def qwp(wp_angle):\n",
    "#    a = wp_angle\n",
    "#    return qutip.Qobj([[np.cos(a)**2-1j*np.sin(a)**2, (1+1j)*np.sin(a)*np.cos(a)],\n",
    "#                     [(1+1j)*np.sin(a)*np.cos(a), np.sin(a)**2-1j*np.cos(a)**2]])\n",
    "\n",
    "def qops_rwp(wp_angle, angle):\n",
    "    #wp_angle = 0\n",
    "    return qops.rotation(wp(wp_angle), angle)\n",
    "\n",
    "#def qops_rqwp(wp_angle, angle):\n",
    "#    return qops.rotation(qwp(wp_angle), angle)\n"
   ]
  },
  {
   "cell_type": "markdown",
   "id": "b73d12fa",
   "metadata": {},
   "source": [
    "# Half-wave plate"
   ]
  },
  {
   "cell_type": "code",
   "execution_count": 6,
   "id": "41a529bc",
   "metadata": {},
   "outputs": [
    {
     "data": {
      "text/latex": [
       "Quantum object: dims = [[2], [2]], shape = (2, 2), type = oper, isherm = False\\begin{equation*}\\left(\\begin{array}{*{11}c}-1.0j & 0.0\\\\0.0 & 1.0j\\\\\\end{array}\\right)\\end{equation*}"
      ],
      "text/plain": [
       "Quantum object: dims = [[2], [2]], shape = (2, 2), type = oper, isherm = False\n",
       "Qobj data =\n",
       "[[0.-1.j 0.+0.j]\n",
       " [0.+0.j 0.+1.j]]"
      ]
     },
     "execution_count": 6,
     "metadata": {},
     "output_type": "execute_result"
    }
   ],
   "source": [
    "qops_rwp(np.radians(0), np.pi)"
   ]
  },
  {
   "cell_type": "code",
   "execution_count": 16,
   "id": "3b660785",
   "metadata": {},
   "outputs": [],
   "source": [
    "wp_angle = np.radians(0)\n",
    "\n",
    "animation = bsa.animation.BlochSphereAnimation()\n",
    "animation.view = [-40,30]\n",
    "\n",
    "animation.state_current = (qutip.basis(2,0) + qutip.basis(2,1)).unit()\n",
    "\n",
    "## define constant vectors\n",
    "vector_wp = (np.cos(wp_angle)*qutip.basis(2,0) + np.sin(wp_angle)*qutip.basis(2,1)).unit()\n",
    "\n",
    "animation.apply_gate(functools.partial(qops_rwp, wp_angle), phase=np.pi, vector=vector_wp)\n",
    "# for functools see: https://stackoverflow.com/questions/22028640/pass-a-function-as-a-variable-with-one-input-fixed\n",
    "\n",
    "animation.animate()"
   ]
  },
  {
   "cell_type": "markdown",
   "id": "d47e898b",
   "metadata": {},
   "source": [
    "# Quarter-wave plate"
   ]
  },
  {
   "cell_type": "code",
   "execution_count": 7,
   "id": "5615950f",
   "metadata": {},
   "outputs": [
    {
     "data": {
      "text/latex": [
       "Quantum object: dims = [[2], [2]], shape = (2, 2), type = oper, isherm = False\\begin{equation*}\\left(\\begin{array}{*{11}c}(0.707-0.707j) & 0.0\\\\0.0 & (0.707+0.707j)\\\\\\end{array}\\right)\\end{equation*}"
      ],
      "text/plain": [
       "Quantum object: dims = [[2], [2]], shape = (2, 2), type = oper, isherm = False\n",
       "Qobj data =\n",
       "[[0.70710678-0.70710678j 0.        +0.j        ]\n",
       " [0.        +0.j         0.70710678+0.70710678j]]"
      ]
     },
     "execution_count": 7,
     "metadata": {},
     "output_type": "execute_result"
    }
   ],
   "source": [
    "qops_rwp(np.radians(0), np.pi/2)"
   ]
  },
  {
   "cell_type": "code",
   "execution_count": 20,
   "id": "bdbe4764",
   "metadata": {},
   "outputs": [],
   "source": [
    "wp_angle = np.radians(45)\n",
    "\n",
    "animation = bsa.animation.BlochSphereAnimation()\n",
    "animation.view = [-40,30]\n",
    "\n",
    "animation.state_current = qutip.basis(2,0)\n",
    "\n",
    "## define constant vectors\n",
    "vector_wp = (np.cos(wp_angle)*qutip.basis(2,0) + np.sin(wp_angle)*qutip.basis(2,1)).unit()\n",
    "\n",
    "animation.apply_gate(functools.partial(qops_rwp, wp_angle), phase=np.pi/2, vector=vector_wp)\n",
    "\n",
    "animation.animate()"
   ]
  },
  {
   "cell_type": "code",
   "execution_count": null,
   "id": "e4e21ed1",
   "metadata": {},
   "outputs": [],
   "source": []
  }
 ],
 "metadata": {
  "kernelspec": {
   "display_name": "Python 3 (ipykernel)",
   "language": "python",
   "name": "python3"
  },
  "language_info": {
   "codemirror_mode": {
    "name": "ipython",
    "version": 3
   },
   "file_extension": ".py",
   "mimetype": "text/x-python",
   "name": "python",
   "nbconvert_exporter": "python",
   "pygments_lexer": "ipython3",
   "version": "3.10.4"
  }
 },
 "nbformat": 4,
 "nbformat_minor": 5
}
